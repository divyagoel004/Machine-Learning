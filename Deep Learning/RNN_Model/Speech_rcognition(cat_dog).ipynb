{
  "cells": [
    {
      "cell_type": "code",
      "execution_count": null,
      "metadata": {
        "id": "K8Oi5mhmXeIN"
      },
      "outputs": [],
      "source": [
        "!kaggle datasets download -d mmoreaux/audio-cats-and-dogs"
      ]
    },
    {
      "cell_type": "code",
      "execution_count": null,
      "metadata": {
        "id": "aE-LOOIXXlHA"
      },
      "outputs": [],
      "source": [
        "import zipfile\n",
        "zip_ref=zipfile.ZipFile('/content/audio-cats-and-dogs.zip','r')\n",
        "zip_ref.extractall('/content')\n",
        "zip_ref.close()"
      ]
    },
    {
      "cell_type": "code",
      "execution_count": null,
      "metadata": {
        "id": "q-6R2e0oX1Vh"
      },
      "outputs": [],
      "source": [
        "import tensorflow as tf\n",
        "from tensorflow import keras\n",
        "from keras.layers import Dense , Conv2D , MaxPooling2D , Flatten , BatchNormalization , Dropout\n",
        "from keras.models import Sequential\n",
        "import librosa.display, os\n",
        "import matplotlib.pyplot as plt\n",
        "import numpy as np"
      ]
    },
    {
      "cell_type": "code",
      "execution_count": null,
      "metadata": {
        "id": "rP2mGwxyYfoY"
      },
      "outputs": [],
      "source": [
        "\n",
        "def create_spectrogram(audio_file, image_file):\n",
        "    fig = plt.figure()\n",
        "    ax = fig.add_subplot(1, 1, 1)\n",
        "    fig.subplots_adjust(left=0, right=1, bottom=0, top=1)\n",
        "\n",
        "    y, sr = librosa.load(audio_file)\n",
        "    ms = librosa.feature.melspectrogram(y=y, sr=sr)\n",
        "    log_ms = librosa.power_to_db(ms, ref=np.max)\n",
        "    librosa.display.specshow(log_ms, sr=sr)\n",
        "\n",
        "    fig.savefig(image_file)\n",
        "    plt.close(fig)\n",
        "\n",
        "def create_pngs_from_wavs(input_path, output_path):\n",
        "    if not os.path.exists(output_path):\n",
        "        os.makedirs(output_path)\n",
        "\n",
        "    dir = os.listdir(input_path)\n",
        "\n",
        "    for i, file in enumerate(dir):\n",
        "        input_file = os.path.join(input_path, file)\n",
        "        output_file = os.path.join(output_path, file.replace('.wav', '.png'))\n",
        "        create_spectrogram(input_file, output_file)"
      ]
    },
    {
      "cell_type": "code",
      "execution_count": null,
      "metadata": {
        "id": "di7SCvs2Y_52"
      },
      "outputs": [],
      "source": [
        "create_pngs_from_wavs('/content/cats_dogs/train/cat', 'Spectrograms/train/cat')"
      ]
    },
    {
      "cell_type": "code",
      "execution_count": null,
      "metadata": {
        "id": "6AajiEU7ZT21"
      },
      "outputs": [],
      "source": [
        "create_pngs_from_wavs('/content/cats_dogs/train/dog', 'Spectrograms/train/dog')"
      ]
    },
    {
      "cell_type": "code",
      "execution_count": null,
      "metadata": {
        "id": "YWP4hYh0aBEK"
      },
      "outputs": [],
      "source": [
        "train_ds=keras.utils.image_dataset_from_directory(\n",
        "directory='/content/Spectrograms/train',\n",
        "labels='inferred',\n",
        "label_mode='int',\n",
        "batch_size=32,\n",
        "image_size=(256,256))"
      ]
    },
    {
      "cell_type": "code",
      "execution_count": null,
      "metadata": {
        "id": "p6-BcKFLcC6O"
      },
      "outputs": [],
      "source": [
        "create_pngs_from_wavs('/content/cats_dogs/test/cats', 'Spectrograms/test/cat')\n",
        "create_pngs_from_wavs('/content/cats_dogs/test/test', 'Spectrograms/test/dog')\n"
      ]
    },
    {
      "cell_type": "code",
      "execution_count": null,
      "metadata": {
        "id": "9lcoGAsBcSYW"
      },
      "outputs": [],
      "source": [
        "validation=keras.utils.image_dataset_from_directory(\n",
        "    directory='/content/Spectrograms/test',\n",
        "    labels='inferred',\n",
        "    label_mode='int',\n",
        "    batch_size=32,\n",
        "    image_size=(256,256)\n",
        ")"
      ]
    },
    {
      "cell_type": "code",
      "execution_count": null,
      "metadata": {
        "id": "RHd1rUI2csj8"
      },
      "outputs": [],
      "source": [
        "model=Sequential()\n",
        "\n",
        "model.add(Conv2D(128,kernel_size=(3,3),padding='valid',activation='relu',input_shape=(256,256,3)))\n",
        "model.add(BatchNormalization())\n",
        "model.add(Conv2D(64,kernel_size=(3,3),padding='valid',activation='relu'))\n",
        "model.add(BatchNormalization())\n",
        "model.add(MaxPooling2D(pool_size=(2,2),strides=(2,2)))\n",
        "model.add(Dropout(0.2))\n",
        "model.add(Conv2D(32,kernel_size=(3,3),padding='valid',activation='relu'))\n",
        "model.add(BatchNormalization())\n",
        "model.add(MaxPooling2D(pool_size=(2,2),strides=(2,2)))\n",
        "model.add(Dropout(0.2))\n",
        "model.add(Flatten())\n",
        "model.add(Dense(128,activation='relu'))\n",
        "model.add(Dropout(0.3))\n",
        "model.add(Dense(64,activation='relu'))\n",
        "model.add(Dropout(0.3))\n",
        "model.add(Dense(1,activation='sigmoid'))\n"
      ]
    },
    {
      "cell_type": "code",
      "execution_count": null,
      "metadata": {
        "id": "UbQT0ByudnBV"
      },
      "outputs": [],
      "source": [
        "model.summary()"
      ]
    },
    {
      "cell_type": "code",
      "execution_count": null,
      "metadata": {
        "id": "4yqr7bcidsfi"
      },
      "outputs": [],
      "source": [
        "model.compile(optimizer='adam',loss='binary_crossentropy',metrics=['accuracy'])"
      ]
    },
    {
      "cell_type": "code",
      "execution_count": null,
      "metadata": {
        "colab": {
          "base_uri": "https://localhost:8080/"
        },
        "id": "FeAyQpdQd9kw",
        "outputId": "b88a1918-e369-4363-b855-25a9b0fa96a0"
      },
      "outputs": [
        {
          "output_type": "stream",
          "name": "stdout",
          "text": [
            "Epoch 1/15\n",
            "7/7 [==============================] - 253s 36s/step - loss: 5.4687 - accuracy: 0.6476 - val_loss: 119.8023 - val_accuracy: 0.5821\n",
            "Epoch 2/15\n",
            "7/7 [==============================] - 252s 36s/step - loss: 3.7595 - accuracy: 0.7762 - val_loss: 17.4032 - val_accuracy: 0.8657\n",
            "Epoch 3/15\n",
            "7/7 [==============================] - 250s 35s/step - loss: 3.9307 - accuracy: 0.8429 - val_loss: 41.1554 - val_accuracy: 0.7313\n",
            "Epoch 4/15\n",
            "7/7 [==============================] - 255s 36s/step - loss: 6.3240 - accuracy: 0.8190 - val_loss: 12.8440 - val_accuracy: 0.8507\n",
            "Epoch 5/15\n",
            "7/7 [==============================] - 261s 36s/step - loss: 3.3249 - accuracy: 0.8571 - val_loss: 5.6195 - val_accuracy: 0.7463\n",
            "Epoch 6/15\n",
            "7/7 [==============================] - 248s 35s/step - loss: 2.5392 - accuracy: 0.8381 - val_loss: 6.7115 - val_accuracy: 0.7015\n",
            "Epoch 7/15\n",
            "7/7 [==============================] - 248s 36s/step - loss: 2.0321 - accuracy: 0.8143 - val_loss: 8.9506 - val_accuracy: 0.6119\n",
            "Epoch 8/15\n"
          ]
        }
      ],
      "source": [
        "c=keras.callbacks.EarlyStopping(\n",
        "    monitor='val_loss',\n",
        "    patience=3,\n",
        "    verbose=1,\n",
        "    mode='auto',\n",
        "    baseline=None,\n",
        "    restore_best_weights=False\n",
        ")\n",
        "his=model.fit(train_ds,epochs=15,validation_data=validation)\n",
        "\n"
      ]
    },
    {
      "cell_type": "code",
      "execution_count": null,
      "metadata": {
        "id": "HsIje0FEexJV"
      },
      "outputs": [],
      "source": [
        "acc = his.history['accuracy']\n",
        "val_acc = his.history['val_accuracy']\n",
        "epochs = range(1,16)\n",
        "\n",
        "plt.plot(epochs, acc, '-', label='Training Accuracy')\n",
        "plt.plot(epochs, val_acc, ':', label='Validation Accuracy')\n",
        "plt.title('Training and Validation Accuracy')\n",
        "plt.xlabel('Epoch')\n",
        "plt.ylabel('Accuracy')\n",
        "plt.legend(loc='lower right')\n",
        "plt.plot()"
      ]
    },
    {
      "cell_type": "code",
      "execution_count": null,
      "metadata": {
        "id": "Gsc45-ZmhgcP"
      },
      "outputs": [],
      "source": [
        "create_spectrogram(\"/content/cats_dogs/dog_barking_99.wav\",'content')"
      ]
    },
    {
      "cell_type": "code",
      "execution_count": null,
      "metadata": {
        "id": "JzuVW2MEjGC5"
      },
      "outputs": [],
      "source": [
        "import cv2\n",
        "img=cv2.imread('/content/content.png')\n",
        "plt.imshow(img)"
      ]
    },
    {
      "cell_type": "code",
      "execution_count": null,
      "metadata": {
        "id": "5TgRw6oyk-JY"
      },
      "outputs": [],
      "source": [
        "img=cv2.resize(img,(256,256))\n",
        "img=img.reshape(1,256,256,3)\n",
        "prob=model.predict(img)\n",
        "if(prob>=0.5):\n",
        "  print('dog')\n",
        "else:\n",
        "  print('cat')"
      ]
    },
    {
      "cell_type": "code",
      "execution_count": null,
      "metadata": {
        "id": "IRoOUgHjlHHm"
      },
      "outputs": [],
      "source": [
        "create_spectrogram(\"/content/cats_dogs/cat_129.wav\",'cat_voice')\n"
      ]
    },
    {
      "cell_type": "code",
      "execution_count": null,
      "metadata": {
        "id": "PECRokxmlTGa"
      },
      "outputs": [],
      "source": [
        "img2=cv2.imread('/content/cat_voice.png')\n",
        "plt.imshow(img2)"
      ]
    },
    {
      "cell_type": "code",
      "execution_count": null,
      "metadata": {
        "id": "dZP4RXSzlfOm"
      },
      "outputs": [],
      "source": [
        "img2=cv2.resize(img2,(256,256))\n",
        "img2=img2.reshape(1,256,256,3)\n",
        "prob=model.predict(img2)\n",
        "if(prob>=0.5):\n",
        "  print('dog')\n",
        "else:\n",
        "  print('cat')"
      ]
    },
    {
      "cell_type": "code",
      "execution_count": null,
      "metadata": {
        "id": "dZVydwLClwEj"
      },
      "outputs": [],
      "source": [
        "create_spectrogram(\"/content/mixkit-sweet-kitty-meow-93.wav\",\"cat\")"
      ]
    },
    {
      "cell_type": "code",
      "execution_count": null,
      "metadata": {
        "id": "IRueGpNIndvP"
      },
      "outputs": [],
      "source": [
        "im=cv2.imread('/content/cat.png')\n",
        "plt.imshow(im)"
      ]
    },
    {
      "cell_type": "code",
      "execution_count": null,
      "metadata": {
        "id": "Oiotfm8ynyx2"
      },
      "outputs": [],
      "source": [
        "im=cv2.resize(im,(256,256))\n",
        "im=im.reshape(1,256,256,3)\n",
        "prob=model.predict(im)\n",
        "if(prob>=0.5):\n",
        "  print('dog : ',prob)\n",
        "else:\n",
        "  print('cat : ',prob)"
      ]
    },
    {
      "cell_type": "code",
      "execution_count": null,
      "metadata": {
        "id": "73C6Vrrzn5tm"
      },
      "outputs": [],
      "source": [
        "\n",
        "create_spectrogram(\"/content/mixkit-happy-puppy-barks-741.wav\",'dog')"
      ]
    },
    {
      "cell_type": "code",
      "execution_count": null,
      "metadata": {
        "id": "m_wlFuDYpD-e"
      },
      "outputs": [],
      "source": [
        "im=cv2.imread('/content/dog.png')\n",
        "plt.imshow(im)"
      ]
    },
    {
      "cell_type": "code",
      "execution_count": null,
      "metadata": {
        "id": "ev1cPg9rpIHN"
      },
      "outputs": [],
      "source": [
        "im=cv2.resize(im,(256,256))\n",
        "im=im.reshape(1,256,256,3)\n",
        "prob=model.predict(im)\n",
        "if(prob>=0.47):\n",
        "  print('dog : ',prob)\n",
        "else:\n",
        "  print('cat : ',prob)"
      ]
    },
    {
      "cell_type": "code",
      "execution_count": null,
      "metadata": {
        "id": "nL9BS7_5pMiv"
      },
      "outputs": [],
      "source": [
        "create_spectrogram(\"/content/mixkit-giant-dog-aggressive-growl-59.wav\",'dog2')\n"
      ]
    },
    {
      "cell_type": "code",
      "execution_count": null,
      "metadata": {
        "id": "BGxoPWyjqlwf"
      },
      "outputs": [],
      "source": [
        "\n",
        "img=cv2.imread('/content/dog2.png')\n",
        "\n",
        "plt.imshow(img)\n",
        "img=cv2.resize(img,(256,256))\n",
        "img=img.reshape(1,256,256,3)\n",
        "prob=model.predict(img)\n",
        "if(prob>=0.47):\n",
        "  print('dog : ',prob)\n",
        "else:\n",
        "  print('cat : ',prob)"
      ]
    },
    {
      "cell_type": "code",
      "execution_count": null,
      "metadata": {
        "id": "aXPFMwuHq9HG"
      },
      "outputs": [],
      "source": [
        "from tensorflow.keras.applications import VGG16"
      ]
    },
    {
      "cell_type": "code",
      "execution_count": null,
      "metadata": {
        "id": "2pWAGohIsD1l"
      },
      "outputs": [],
      "source": [
        "base=VGG16(include_top=False)"
      ]
    },
    {
      "cell_type": "code",
      "execution_count": null,
      "metadata": {
        "id": "jZ2-hvl7sHeD"
      },
      "outputs": [],
      "source": [
        "base.summary()"
      ]
    },
    {
      "cell_type": "code",
      "execution_count": null,
      "metadata": {
        "id": "HjEgj_lnsOkQ"
      },
      "outputs": [],
      "source": [
        "model=Sequential()\n",
        "model.add(base)\n",
        "model.add(Flatten())\n",
        "model.add(Dense(128,activation='relu'))\n",
        "model.add(Dropout(0.3))\n",
        "model.add(Dense(64,activation='relu'))\n",
        "model.add(Dropout(0.3))\n",
        "model.add(Dense(32,activation='relu'))\n",
        "model.add(Dropout(0.3))\n",
        "model.add(Dense(1,activation='sigmoid'))\n",
        "\n",
        "\n",
        "model.summary()"
      ]
    },
    {
      "cell_type": "code",
      "execution_count": null,
      "metadata": {
        "id": "nsAPYETmwG9x"
      },
      "outputs": [],
      "source": []
    }
  ],
  "metadata": {
    "accelerator": "GPU",
    "colab": {
      "gpuType": "T4",
      "provenance": []
    },
    "kernelspec": {
      "display_name": "Python 3",
      "name": "python3"
    },
    "language_info": {
      "name": "python"
    }
  },
  "nbformat": 4,
  "nbformat_minor": 0
}