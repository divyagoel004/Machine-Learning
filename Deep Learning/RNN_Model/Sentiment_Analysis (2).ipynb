{
  "nbformat": 4,
  "nbformat_minor": 0,
  "metadata": {
    "colab": {
      "provenance": [],
      "gpuType": "T4"
    },
    "kernelspec": {
      "name": "python3",
      "display_name": "Python 3"
    },
    "language_info": {
      "name": "python"
    },
    "accelerator": "GPU"
  },
  "cells": [
    {
      "cell_type": "code",
      "execution_count": 1,
      "metadata": {
        "colab": {
          "base_uri": "https://localhost:8080/"
        },
        "id": "RxCPVGzJGoqe",
        "outputId": "3a4b2b8f-5ff6-424f-deea-c8e54b9780da"
      },
      "outputs": [
        {
          "output_type": "stream",
          "name": "stdout",
          "text": [
            "Dataset URL: https://www.kaggle.com/datasets/abhi8923shriv/sentiment-analysis-dataset\n",
            "License(s): CC0-1.0\n",
            "sentiment-analysis-dataset.zip: Skipping, found more recently modified local copy (use --force to force download)\n"
          ]
        }
      ],
      "source": [
        "!kaggle datasets download -d abhi8923shriv/sentiment-analysis-dataset"
      ]
    },
    {
      "cell_type": "code",
      "source": [
        "import zipfile\n",
        "zip_ref=zipfile.ZipFile('/content/sentiment-analysis-dataset.zip','r')\n",
        "zip_ref.extractall('/content')\n",
        "zip_ref.close()"
      ],
      "metadata": {
        "id": "DgeO9UUJHu3C"
      },
      "execution_count": 2,
      "outputs": []
    },
    {
      "cell_type": "code",
      "source": [
        "import pandas as pd\n",
        "\n",
        "df = pd.read_csv('/content/train.csv', encoding='latin-1',dtype={'text': str})\n",
        "df['text'].fillna(\" \",inplace=True)\n",
        "from sklearn.model_selection import train_test_split\n",
        "train,test=train_test_split(df,test_size=0.2,random_state=42)\n",
        "y_train=train['sentiment']\n",
        "y_test=test['sentiment']\n",
        "x_train=train['text']\n",
        "x_test=test['text']\n"
      ],
      "metadata": {
        "id": "mOpLAyjzH36a"
      },
      "execution_count": 3,
      "outputs": []
    },
    {
      "cell_type": "code",
      "source": [
        "df.info()"
      ],
      "metadata": {
        "colab": {
          "base_uri": "https://localhost:8080/"
        },
        "id": "FWJEDbToIB67",
        "outputId": "b6a36bd0-efcd-47e4-98f5-d24eb7f33df4"
      },
      "execution_count": 4,
      "outputs": [
        {
          "output_type": "stream",
          "name": "stdout",
          "text": [
            "<class 'pandas.core.frame.DataFrame'>\n",
            "RangeIndex: 27481 entries, 0 to 27480\n",
            "Data columns (total 10 columns):\n",
            " #   Column            Non-Null Count  Dtype  \n",
            "---  ------            --------------  -----  \n",
            " 0   textID            27481 non-null  object \n",
            " 1   text              27481 non-null  object \n",
            " 2   selected_text     27480 non-null  object \n",
            " 3   sentiment         27481 non-null  object \n",
            " 4   Time of Tweet     27481 non-null  object \n",
            " 5   Age of User       27481 non-null  object \n",
            " 6   Country           27481 non-null  object \n",
            " 7   Population -2020  27481 non-null  int64  \n",
            " 8   Land Area (Km²)   27481 non-null  float64\n",
            " 9   Density (P/Km²)   27481 non-null  int64  \n",
            "dtypes: float64(1), int64(2), object(7)\n",
            "memory usage: 2.1+ MB\n"
          ]
        }
      ]
    },
    {
      "cell_type": "code",
      "source": [
        "df['sentiment'].value_counts()"
      ],
      "metadata": {
        "colab": {
          "base_uri": "https://localhost:8080/"
        },
        "id": "DM7diLowIRJV",
        "outputId": "45c175b0-aaaa-4848-c474-75a471cfca0d"
      },
      "execution_count": 5,
      "outputs": [
        {
          "output_type": "execute_result",
          "data": {
            "text/plain": [
              "sentiment\n",
              "neutral     11118\n",
              "positive     8582\n",
              "negative     7781\n",
              "Name: count, dtype: int64"
            ]
          },
          "metadata": {},
          "execution_count": 5
        }
      ]
    },
    {
      "cell_type": "code",
      "source": [
        "from keras.preprocessing.text import Tokenizer\n",
        "from keras.preprocessing.sequence import pad_sequences\n",
        "Tokenizer= Tokenizer(oov_token='<Happy>')"
      ],
      "metadata": {
        "id": "vc8bVovsIU8W"
      },
      "execution_count": 6,
      "outputs": []
    },
    {
      "cell_type": "code",
      "source": [
        "x_train.fillna(\" \",inplace=True)\n",
        "x_test.fillna(\" \",inplace=True)\n",
        "\n",
        "train_data=Tokenizer.fit_on_texts(x_train)\n",
        "t_data=Tokenizer.fit_on_texts(x_test)"
      ],
      "metadata": {
        "id": "Uxg0YIn4Iz7h"
      },
      "execution_count": 7,
      "outputs": []
    },
    {
      "cell_type": "code",
      "source": [
        "Tokenizer.document_count\n"
      ],
      "metadata": {
        "colab": {
          "base_uri": "https://localhost:8080/"
        },
        "id": "tckIRcn_JeCR",
        "outputId": "8c29278d-9f2a-4e9c-cf48-0bb236f5694e"
      },
      "execution_count": 8,
      "outputs": [
        {
          "output_type": "execute_result",
          "data": {
            "text/plain": [
              "27481"
            ]
          },
          "metadata": {},
          "execution_count": 8
        }
      ]
    },
    {
      "cell_type": "code",
      "source": [
        "sequence=Tokenizer.texts_to_sequences(x_train)\n",
        "test_seq=Tokenizer.texts_to_sequences(x_test)"
      ],
      "metadata": {
        "id": "tOfdpchcKiac"
      },
      "execution_count": 9,
      "outputs": []
    },
    {
      "cell_type": "markdown",
      "source": [],
      "metadata": {
        "id": "nopYqPXVhSIV"
      }
    },
    {
      "cell_type": "code",
      "source": [
        "len(Tokenizer.word_counts)\n"
      ],
      "metadata": {
        "colab": {
          "base_uri": "https://localhost:8080/"
        },
        "id": "ufere8GOKvNq",
        "outputId": "7ffb3332-07c4-498b-deee-0bdf2e0d1c50"
      },
      "execution_count": 10,
      "outputs": [
        {
          "output_type": "execute_result",
          "data": {
            "text/plain": [
              "26598"
            ]
          },
          "metadata": {},
          "execution_count": 10
        }
      ]
    },
    {
      "cell_type": "code",
      "source": [
        "sq=pad_sequences(sequence,padding='post',maxlen=50)\n",
        "y_train=train['sentiment']\n",
        "test_sq=pad_sequences(test_seq,padding='post',maxlen=50)\n",
        "y_test=test['sentiment']"
      ],
      "metadata": {
        "id": "-cL8eLWVKw24"
      },
      "execution_count": 11,
      "outputs": []
    },
    {
      "cell_type": "code",
      "source": [
        "\n",
        "sq.shape"
      ],
      "metadata": {
        "colab": {
          "base_uri": "https://localhost:8080/"
        },
        "id": "14iyPUxyLFTz",
        "outputId": "93f93b3f-8721-43bb-c54f-725e5c9075ee"
      },
      "execution_count": 12,
      "outputs": [
        {
          "output_type": "execute_result",
          "data": {
            "text/plain": [
              "(21984, 50)"
            ]
          },
          "metadata": {},
          "execution_count": 12
        }
      ]
    },
    {
      "cell_type": "code",
      "source": [
        "import tensorflow as tf\n",
        "from tensorflow import keras\n",
        "from keras import Sequential\n",
        "from keras.layers import SimpleRNN , Dense ,Embedding,Flatten,Dropout"
      ],
      "metadata": {
        "id": "272q3W14LG8b"
      },
      "execution_count": 13,
      "outputs": []
    },
    {
      "cell_type": "code",
      "source": [
        "model=Sequential()\n",
        "\n",
        "model.add(SimpleRNN(32,input_shape=[50,1],return_sequences=False))\n",
        "model.add(Dense(128,activation='relu'))\n",
        "model.add(Dropout(0.2))\n",
        "model.add(Dense(3,activation='sigmoid'))"
      ],
      "metadata": {
        "id": "ckgvGCDLLjwI"
      },
      "execution_count": 14,
      "outputs": []
    },
    {
      "cell_type": "code",
      "source": [
        "model.summary()"
      ],
      "metadata": {
        "colab": {
          "base_uri": "https://localhost:8080/"
        },
        "id": "r-X3bbYpLtk_",
        "outputId": "a984cc4d-6721-40bb-f98c-a14936dc7b19"
      },
      "execution_count": 15,
      "outputs": [
        {
          "output_type": "stream",
          "name": "stdout",
          "text": [
            "Model: \"sequential\"\n",
            "_________________________________________________________________\n",
            " Layer (type)                Output Shape              Param #   \n",
            "=================================================================\n",
            " simple_rnn (SimpleRNN)      (None, 32)                1088      \n",
            "                                                                 \n",
            " dense (Dense)               (None, 128)               4224      \n",
            "                                                                 \n",
            " dropout (Dropout)           (None, 128)               0         \n",
            "                                                                 \n",
            " dense_1 (Dense)             (None, 3)                 387       \n",
            "                                                                 \n",
            "=================================================================\n",
            "Total params: 5699 (22.26 KB)\n",
            "Trainable params: 5699 (22.26 KB)\n",
            "Non-trainable params: 0 (0.00 Byte)\n",
            "_________________________________________________________________\n"
          ]
        }
      ]
    },
    {
      "cell_type": "code",
      "source": [
        "model.compile(optimizer='adam',loss='categorical_crossentropy',metrics=['accuracy'])"
      ],
      "metadata": {
        "id": "Gugq3GeoNvXa"
      },
      "execution_count": 16,
      "outputs": []
    },
    {
      "cell_type": "code",
      "source": [
        "from keras.utils import to_categorical\n",
        "from sklearn.preprocessing import LabelEncoder\n",
        "label_encoder = LabelEncoder()\n",
        "\n",
        "y_train_encoded = label_encoder.fit_transform(y_train)\n",
        "y_test_encoded = label_encoder.transform(y_test)\n",
        "y_tr = to_categorical(y_train_encoded)\n",
        "y_te = to_categorical(y_test_encoded)\n",
        "\n",
        "model.fit(sq,y_tr,epochs=10,validation_data=(test_sq,y_te))"
      ],
      "metadata": {
        "colab": {
          "base_uri": "https://localhost:8080/"
        },
        "id": "aXDHCONPN2qE",
        "outputId": "283d1f19-bc24-44cb-d50e-0a6df1a8e09e"
      },
      "execution_count": 17,
      "outputs": [
        {
          "output_type": "stream",
          "name": "stdout",
          "text": [
            "Epoch 1/10\n",
            "687/687 [==============================] - 18s 17ms/step - loss: 1.0903 - accuracy: 0.3991 - val_loss: 1.0866 - val_accuracy: 0.4057\n",
            "Epoch 2/10\n",
            "687/687 [==============================] - 11s 16ms/step - loss: 1.0872 - accuracy: 0.4042 - val_loss: 1.0863 - val_accuracy: 0.4057\n",
            "Epoch 3/10\n",
            "687/687 [==============================] - 10s 14ms/step - loss: 1.0870 - accuracy: 0.4037 - val_loss: 1.0863 - val_accuracy: 0.4057\n",
            "Epoch 4/10\n",
            "687/687 [==============================] - 12s 17ms/step - loss: 1.0873 - accuracy: 0.4037 - val_loss: 1.0869 - val_accuracy: 0.4057\n",
            "Epoch 5/10\n",
            "687/687 [==============================] - 11s 16ms/step - loss: 1.0871 - accuracy: 0.4045 - val_loss: 1.0867 - val_accuracy: 0.4057\n",
            "Epoch 6/10\n",
            "687/687 [==============================] - 11s 16ms/step - loss: 1.0873 - accuracy: 0.4038 - val_loss: 1.0893 - val_accuracy: 0.4057\n",
            "Epoch 7/10\n",
            "687/687 [==============================] - 11s 17ms/step - loss: 1.0873 - accuracy: 0.4037 - val_loss: 1.0865 - val_accuracy: 0.4057\n",
            "Epoch 8/10\n",
            "687/687 [==============================] - 10s 15ms/step - loss: 1.0872 - accuracy: 0.4045 - val_loss: 1.0865 - val_accuracy: 0.4057\n",
            "Epoch 9/10\n",
            "687/687 [==============================] - 12s 17ms/step - loss: 1.0871 - accuracy: 0.4041 - val_loss: 1.0866 - val_accuracy: 0.4057\n",
            "Epoch 10/10\n",
            "687/687 [==============================] - 13s 19ms/step - loss: 1.0870 - accuracy: 0.4042 - val_loss: 1.0869 - val_accuracy: 0.4057\n"
          ]
        },
        {
          "output_type": "execute_result",
          "data": {
            "text/plain": [
              "<keras.src.callbacks.History at 0x79f4e0b35b10>"
            ]
          },
          "metadata": {},
          "execution_count": 17
        }
      ]
    },
    {
      "cell_type": "code",
      "source": [
        "from sklearn.metrics import confusion_matrix\n",
        "import pandas as pd\n",
        "check=pd.read_csv('/content/test.csv',encoding='latin-1',dtype={'text':str})\n",
        "check=check[~ check['text'].isnull()]\n",
        "testing=check['text']\n",
        "testing=Tokenizer.texts_to_sequences(testing)\n",
        "sqe=pad_sequences(testing,padding='post',maxlen=50)\n",
        "y_testing=check['sentiment']\n",
        "y_test_pred=model.predict(sqe)\n",
        "t=pd.DataFrame(y_test_pred,columns=['neutral',\"positive\",'negaitve'])\n",
        "classes=[]\n",
        "for i in range(len(t)):\n",
        "   for j in range (3):\n",
        "    if t.iloc[i,j]==t.iloc[i].max():\n",
        "      t.iloc[i,j]=1\n",
        "      classes.append(t.columns[j])\n",
        "    else:\n",
        "      t.iloc[i,j]=0\n",
        "check['sentiment']\n",
        "matrix=confusion_matrix(check['sentiment'],classes)\n",
        "matrix"
      ],
      "metadata": {
        "colab": {
          "base_uri": "https://localhost:8080/"
        },
        "id": "_83UzEImzWJz",
        "outputId": "28174d8a-04a9-444c-b6fd-dce20ad94312"
      },
      "execution_count": 18,
      "outputs": [
        {
          "output_type": "stream",
          "name": "stdout",
          "text": [
            "111/111 [==============================] - 1s 5ms/step\n"
          ]
        },
        {
          "output_type": "execute_result",
          "data": {
            "text/plain": [
              "array([[   0,    0, 1001],\n",
              "       [   0,    0, 1430],\n",
              "       [   0,    0, 1103]])"
            ]
          },
          "metadata": {},
          "execution_count": 18
        }
      ]
    },
    {
      "cell_type": "code",
      "source": [
        "\n",
        "#Embedding"
      ],
      "metadata": {
        "id": "m-kBQSMbnnbX"
      },
      "execution_count": 19,
      "outputs": []
    },
    {
      "cell_type": "code",
      "source": [
        "model1=Sequential()\n",
        "model1.add(Embedding(26598,output_dim=2,input_length=50))\n",
        "model1.add(SimpleRNN(32,return_sequences=False))\n",
        "model1.add(Dense(128,activation='relu'))\n",
        "model1.add(Dropout(0.2))\n",
        "model1.add(Dense(3,activation='sigmoid'))"
      ],
      "metadata": {
        "id": "hr_3JDEXp168"
      },
      "execution_count": 32,
      "outputs": []
    },
    {
      "cell_type": "code",
      "source": [
        "model1.summary()"
      ],
      "metadata": {
        "colab": {
          "base_uri": "https://localhost:8080/"
        },
        "id": "3SbjdUDDsgpd",
        "outputId": "cda8b770-54ef-4494-df75-c0ca59daeba2"
      },
      "execution_count": 28,
      "outputs": [
        {
          "output_type": "stream",
          "name": "stdout",
          "text": [
            "Model: \"sequential_4\"\n",
            "_________________________________________________________________\n",
            " Layer (type)                Output Shape              Param #   \n",
            "=================================================================\n",
            " embedding_1 (Embedding)     (None, 50, 2)             53196     \n",
            "                                                                 \n",
            " simple_rnn_2 (SimpleRNN)    (None, 32)                1120      \n",
            "                                                                 \n",
            " dense_4 (Dense)             (None, 128)               4224      \n",
            "                                                                 \n",
            " dropout_2 (Dropout)         (None, 128)               0         \n",
            "                                                                 \n",
            " dense_5 (Dense)             (None, 3)                 387       \n",
            "                                                                 \n",
            "=================================================================\n",
            "Total params: 58927 (230.18 KB)\n",
            "Trainable params: 58927 (230.18 KB)\n",
            "Non-trainable params: 0 (0.00 Byte)\n",
            "_________________________________________________________________\n"
          ]
        }
      ]
    },
    {
      "cell_type": "code",
      "source": [
        "model1.compile(optimizer='adam',loss='categorical_crossentropy',metrics=['accuracy'])"
      ],
      "metadata": {
        "id": "DbNAR5gmuJwm"
      },
      "execution_count": 29,
      "outputs": []
    },
    {
      "cell_type": "code",
      "source": [
        "\n",
        "model1.fit(sq,y_tr,epochs=10,validation_data=(test_sq,y_te))"
      ],
      "metadata": {
        "colab": {
          "base_uri": "https://localhost:8080/"
        },
        "id": "o4Pk_DSru-7Q",
        "outputId": "1dddace3-21f0-4502-bbe6-d917cb00c734"
      },
      "execution_count": 30,
      "outputs": [
        {
          "output_type": "stream",
          "name": "stdout",
          "text": [
            "Epoch 1/10\n",
            "687/687 [==============================] - 47s 66ms/step - loss: 1.0548 - accuracy: 0.4405 - val_loss: 0.9812 - val_accuracy: 0.5025\n",
            "Epoch 2/10\n",
            "687/687 [==============================] - 30s 44ms/step - loss: 0.9311 - accuracy: 0.5373 - val_loss: 0.8924 - val_accuracy: 0.5769\n",
            "Epoch 3/10\n",
            "687/687 [==============================] - 28s 41ms/step - loss: 0.8126 - accuracy: 0.6397 - val_loss: 0.9345 - val_accuracy: 0.5638\n",
            "Epoch 4/10\n",
            "687/687 [==============================] - 28s 41ms/step - loss: 0.6960 - accuracy: 0.7153 - val_loss: 0.9002 - val_accuracy: 0.6125\n",
            "Epoch 5/10\n",
            "687/687 [==============================] - 28s 40ms/step - loss: 0.6115 - accuracy: 0.7665 - val_loss: 0.8848 - val_accuracy: 0.6371\n",
            "Epoch 6/10\n",
            "687/687 [==============================] - 28s 41ms/step - loss: 0.5415 - accuracy: 0.8034 - val_loss: 0.9223 - val_accuracy: 0.6333\n",
            "Epoch 7/10\n",
            "687/687 [==============================] - 27s 40ms/step - loss: 0.4875 - accuracy: 0.8281 - val_loss: 0.9203 - val_accuracy: 0.6434\n",
            "Epoch 8/10\n",
            "687/687 [==============================] - 28s 40ms/step - loss: 0.4466 - accuracy: 0.8458 - val_loss: 0.9602 - val_accuracy: 0.6329\n",
            "Epoch 9/10\n",
            "687/687 [==============================] - 28s 41ms/step - loss: 0.4223 - accuracy: 0.8570 - val_loss: 0.9823 - val_accuracy: 0.6220\n",
            "Epoch 10/10\n",
            "687/687 [==============================] - 29s 42ms/step - loss: 0.3820 - accuracy: 0.8721 - val_loss: 1.0435 - val_accuracy: 0.6258\n"
          ]
        },
        {
          "output_type": "execute_result",
          "data": {
            "text/plain": [
              "<keras.src.callbacks.History at 0x79f4e0137700>"
            ]
          },
          "metadata": {},
          "execution_count": 30
        }
      ]
    },
    {
      "cell_type": "code",
      "source": [
        "y_test_pred=model1.predict(sqe)\n",
        "test=pd.DataFrame(y_test_pred,columns=['neutral',\"positive\",'negaitve'])\n",
        "classes=[]\n",
        "for i in range(len(test)):\n",
        "   for j in range (3):\n",
        "    if test.iloc[i,j]==test.iloc[i].max():\n",
        "      test.iloc[i,j]=1\n",
        "      classes.append(test.columns[j])\n",
        "    else:\n",
        "      test.iloc[i,j]=0\n",
        "\n",
        "matrix=confusion_matrix(check['sentiment'],classes)\n",
        "matrix"
      ],
      "metadata": {
        "colab": {
          "base_uri": "https://localhost:8080/"
        },
        "id": "LEHyB-zyvfwo",
        "outputId": "a759b7bb-2188-447e-ed8d-44e7a260eeb3"
      },
      "execution_count": 24,
      "outputs": [
        {
          "output_type": "stream",
          "name": "stdout",
          "text": [
            "111/111 [==============================] - 1s 5ms/step\n"
          ]
        },
        {
          "output_type": "execute_result",
          "data": {
            "text/plain": [
              "array([[  0,   0,   0,   0],\n",
              "       [ 49,   0, 547, 405],\n",
              "       [205,   0, 286, 939],\n",
              "       [714,   0,  91, 298]])"
            ]
          },
          "metadata": {},
          "execution_count": 24
        }
      ]
    },
    {
      "cell_type": "code",
      "source": [],
      "metadata": {
        "id": "vzyWc0T7xlOj"
      },
      "execution_count": 48,
      "outputs": []
    },
    {
      "cell_type": "code",
      "source": [],
      "metadata": {
        "id": "w1POlXht_UYy"
      },
      "execution_count": 47,
      "outputs": []
    },
    {
      "cell_type": "code",
      "source": [],
      "metadata": {
        "id": "t59jdVlf_0Ge"
      },
      "execution_count": null,
      "outputs": []
    }
  ]
}