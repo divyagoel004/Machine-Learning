{
 "cells": [
  {
   "cell_type": "code",
   "execution_count": 1,
   "id": "84bcc0e2-d298-4a09-ab0a-10aed0444281",
   "metadata": {},
   "outputs": [
    {
     "name": "stdout",
     "output_type": "stream",
     "text": [
      "Requirement already satisfied: fastapi in c:\\users\\divya\\anaconda3\\lib\\site-packages (0.115.4)\n",
      "Requirement already satisfied: uvicorn in c:\\users\\divya\\anaconda3\\lib\\site-packages (0.32.0)\n",
      "Requirement already satisfied: pyngrok in c:\\users\\divya\\anaconda3\\lib\\site-packages (7.2.1)\n",
      "Requirement already satisfied: bs4 in c:\\users\\divya\\anaconda3\\lib\\site-packages (0.0.2)\n",
      "Requirement already satisfied: starlette<0.42.0,>=0.40.0 in c:\\users\\divya\\anaconda3\\lib\\site-packages (from fastapi) (0.41.2)\n",
      "Requirement already satisfied: pydantic!=1.8,!=1.8.1,!=2.0.0,!=2.0.1,!=2.1.0,<3.0.0,>=1.7.4 in c:\\users\\divya\\anaconda3\\lib\\site-packages (from fastapi) (2.9.2)\n",
      "Requirement already satisfied: typing-extensions>=4.8.0 in c:\\users\\divya\\anaconda3\\lib\\site-packages (from fastapi) (4.11.0)\n",
      "Requirement already satisfied: click>=7.0 in c:\\users\\divya\\anaconda3\\lib\\site-packages (from uvicorn) (8.1.7)\n",
      "Requirement already satisfied: h11>=0.8 in c:\\users\\divya\\anaconda3\\lib\\site-packages (from uvicorn) (0.14.0)\n",
      "Requirement already satisfied: PyYAML>=5.1 in c:\\users\\divya\\anaconda3\\lib\\site-packages (from pyngrok) (6.0.1)\n",
      "Requirement already satisfied: beautifulsoup4 in c:\\users\\divya\\anaconda3\\lib\\site-packages (from bs4) (4.12.3)\n",
      "Requirement already satisfied: colorama in c:\\users\\divya\\anaconda3\\lib\\site-packages (from click>=7.0->uvicorn) (0.4.6)\n",
      "Requirement already satisfied: annotated-types>=0.6.0 in c:\\users\\divya\\anaconda3\\lib\\site-packages (from pydantic!=1.8,!=1.8.1,!=2.0.0,!=2.0.1,!=2.1.0,<3.0.0,>=1.7.4->fastapi) (0.6.0)\n",
      "Requirement already satisfied: pydantic-core==2.23.4 in c:\\users\\divya\\anaconda3\\lib\\site-packages (from pydantic!=1.8,!=1.8.1,!=2.0.0,!=2.0.1,!=2.1.0,<3.0.0,>=1.7.4->fastapi) (2.23.4)\n",
      "Requirement already satisfied: anyio<5,>=3.4.0 in c:\\users\\divya\\anaconda3\\lib\\site-packages (from starlette<0.42.0,>=0.40.0->fastapi) (4.2.0)\n",
      "Requirement already satisfied: soupsieve>1.2 in c:\\users\\divya\\anaconda3\\lib\\site-packages (from beautifulsoup4->bs4) (2.5)\n",
      "Requirement already satisfied: idna>=2.8 in c:\\users\\divya\\anaconda3\\lib\\site-packages (from anyio<5,>=3.4.0->starlette<0.42.0,>=0.40.0->fastapi) (3.7)\n",
      "Requirement already satisfied: sniffio>=1.1 in c:\\users\\divya\\anaconda3\\lib\\site-packages (from anyio<5,>=3.4.0->starlette<0.42.0,>=0.40.0->fastapi) (1.3.0)\n"
     ]
    }
   ],
   "source": [
    "!pip install fastapi uvicorn pyngrok bs4"
   ]
  },
  {
   "cell_type": "code",
   "execution_count": 2,
   "id": "fd6deac0-789a-47a6-878d-93828a3c0f8f",
   "metadata": {},
   "outputs": [
    {
     "name": "stdout",
     "output_type": "stream",
     "text": [
      "Authtoken saved to configuration file: C:\\Users\\divya\\AppData\\Local/ngrok/ngrok.yml\n"
     ]
    }
   ],
   "source": [
    "from fastapi import FastAPI,HTTPException\n",
    "import uvicorn\n",
    "from pyngrok import ngrok\n",
    "from bs4 import BeautifulSoup\n",
    "import requests\n",
    "!ngrok config add-authtoken 2opUHOetl6GsvbpPlhrVJiK0bQq_d4jPqb3XbX8dpenLgi47"
   ]
  },
  {
   "cell_type": "code",
   "execution_count": 3,
   "id": "d6fe538b-4b06-489e-8a5e-c85e79d4581c",
   "metadata": {},
   "outputs": [],
   "source": [
    "app=FastAPI()\n",
    "\n",
    "@app.get('/earnings_transcript_summary')\n",
    "def earnings_transcript(Company , url):\n",
    "    try: \n",
    "            response=requests.get(url)\n",
    "            if response.status_code != 200:\n",
    "                raise HTTPException(status_code=400, detail=\"URL is unreachable or returned an error status.\")\n",
    "            soup=BeautifulSoup(response.content , 'html.parser')\n",
    "            finance = [p.get_text() for p in soup.find_all('p') if 'finance' in p.get_text()]\n",
    "            market = [p.get_text() for p in soup.find_all('p') if 'market' in p.get_text()]\n",
    "            environmental = [p.get_text() for p in soup.find_all('p') if 'environmental' in p.get_text()]\n",
    "            expansion = [p.get_text() for p in soup.find_all('p') if 'expansion' in p.get_text()]\n",
    "            policy = [p.get_text() for p in soup.find_all('p') if 'policy'or'regulatory' in p.get_text()]\n",
    "            return {'Company' :Company ,\"Finance Summary\" : finance , \"Market Summary\" : market , \"Environmental\" :  environmental , \"Expansion\" : expansion , \"Policy \" : policy}\n",
    "    except requests.exceptions.RequestException as e:\n",
    "            raise HTTPException(status_code=400, detail=f\"Error accessing URL: {str(e)}\")\n",
    "\n",
    "@app.get(\"/about\")\n",
    "def aalo():\n",
    "    return {\"Aalo\":\"HEHE\"}"
   ]
  },
  {
   "cell_type": "code",
   "execution_count": 4,
   "id": "f524c9a1-d287-4b1d-a5cd-1cdd583edc51",
   "metadata": {},
   "outputs": [
    {
     "name": "stderr",
     "output_type": "stream",
     "text": [
      "INFO:     Started server process [4604]\n",
      "INFO:     Waiting for application startup.\n",
      "INFO:     Application startup complete.\n",
      "INFO:     Uvicorn running on http://0.0.0.0:8006 (Press CTRL+C to quit)\n"
     ]
    },
    {
     "name": "stdout",
     "output_type": "stream",
     "text": [
      "FastAPI is running on: NgrokTunnel: \"https://705b-2409-40d2-29-6589-75b3-ec9c-4e55-7e60.ngrok-free.app\" -> \"http://localhost:8006\"\n"
     ]
    }
   ],
   "source": [
    "import threading\n",
    "\n",
    "# Function to start the FastAPI app\n",
    "def start_app():\n",
    "    uvicorn.run(app, host=\"0.0.0.0\", port=8006)\n",
    "\n",
    "# Start FastAPI app in a thread\n",
    "thread = threading.Thread(target=start_app)\n",
    "thread.start()\n",
    "\n",
    "# Open a tunnel using ngrok\n",
    "public_url = ngrok.connect(8006)\n",
    "print(\"FastAPI is running on:\", public_url)\n"
   ]
  },
  {
   "cell_type": "code",
   "execution_count": null,
   "id": "f5b6e64a-3ab2-4116-8fee-fa6a23a9bf9e",
   "metadata": {},
   "outputs": [],
   "source": []
  },
  {
   "cell_type": "code",
   "execution_count": null,
   "id": "29e091a8-e71b-4359-a21b-d30f3f17fa2a",
   "metadata": {},
   "outputs": [],
   "source": []
  }
 ],
 "metadata": {
  "kernelspec": {
   "display_name": "Python 3 (ipykernel)",
   "language": "python",
   "name": "python3"
  },
  "language_info": {
   "codemirror_mode": {
    "name": "ipython",
    "version": 3
   },
   "file_extension": ".py",
   "mimetype": "text/x-python",
   "name": "python",
   "nbconvert_exporter": "python",
   "pygments_lexer": "ipython3",
   "version": "3.12.4"
  }
 },
 "nbformat": 4,
 "nbformat_minor": 5
}
