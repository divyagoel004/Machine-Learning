{
 "cells": [
  {
   "cell_type": "code",
   "execution_count": 115,
   "id": "a18804ba-99f2-4975-b413-f7795db5d7b1",
   "metadata": {},
   "outputs": [
    {
     "name": "stdout",
     "output_type": "stream",
     "text": [
      "Requirement already satisfied: fastapi in c:\\users\\divya\\anaconda3\\lib\\site-packages (0.115.4)\n",
      "Requirement already satisfied: uvicorn in c:\\users\\divya\\anaconda3\\lib\\site-packages (0.32.0)\n",
      "Requirement already satisfied: pyngrok in c:\\users\\divya\\anaconda3\\lib\\site-packages (7.2.1)\n",
      "Requirement already satisfied: bs4 in c:\\users\\divya\\anaconda3\\lib\\site-packages (0.0.2)\n",
      "Requirement already satisfied: starlette<0.42.0,>=0.40.0 in c:\\users\\divya\\anaconda3\\lib\\site-packages (from fastapi) (0.41.2)\n",
      "Requirement already satisfied: pydantic!=1.8,!=1.8.1,!=2.0.0,!=2.0.1,!=2.1.0,<3.0.0,>=1.7.4 in c:\\users\\divya\\anaconda3\\lib\\site-packages (from fastapi) (2.9.2)\n",
      "Requirement already satisfied: typing-extensions>=4.8.0 in c:\\users\\divya\\anaconda3\\lib\\site-packages (from fastapi) (4.11.0)\n",
      "Requirement already satisfied: click>=7.0 in c:\\users\\divya\\anaconda3\\lib\\site-packages (from uvicorn) (8.1.7)\n",
      "Requirement already satisfied: h11>=0.8 in c:\\users\\divya\\anaconda3\\lib\\site-packages (from uvicorn) (0.14.0)\n",
      "Requirement already satisfied: PyYAML>=5.1 in c:\\users\\divya\\anaconda3\\lib\\site-packages (from pyngrok) (6.0.1)\n",
      "Requirement already satisfied: beautifulsoup4 in c:\\users\\divya\\anaconda3\\lib\\site-packages (from bs4) (4.12.3)\n",
      "Requirement already satisfied: colorama in c:\\users\\divya\\anaconda3\\lib\\site-packages (from click>=7.0->uvicorn) (0.4.6)\n",
      "Requirement already satisfied: annotated-types>=0.6.0 in c:\\users\\divya\\anaconda3\\lib\\site-packages (from pydantic!=1.8,!=1.8.1,!=2.0.0,!=2.0.1,!=2.1.0,<3.0.0,>=1.7.4->fastapi) (0.6.0)\n",
      "Requirement already satisfied: pydantic-core==2.23.4 in c:\\users\\divya\\anaconda3\\lib\\site-packages (from pydantic!=1.8,!=1.8.1,!=2.0.0,!=2.0.1,!=2.1.0,<3.0.0,>=1.7.4->fastapi) (2.23.4)\n",
      "Requirement already satisfied: anyio<5,>=3.4.0 in c:\\users\\divya\\anaconda3\\lib\\site-packages (from starlette<0.42.0,>=0.40.0->fastapi) (4.2.0)\n",
      "Requirement already satisfied: soupsieve>1.2 in c:\\users\\divya\\anaconda3\\lib\\site-packages (from beautifulsoup4->bs4) (2.5)\n",
      "Requirement already satisfied: idna>=2.8 in c:\\users\\divya\\anaconda3\\lib\\site-packages (from anyio<5,>=3.4.0->starlette<0.42.0,>=0.40.0->fastapi) (3.7)\n",
      "Requirement already satisfied: sniffio>=1.1 in c:\\users\\divya\\anaconda3\\lib\\site-packages (from anyio<5,>=3.4.0->starlette<0.42.0,>=0.40.0->fastapi) (1.3.0)\n"
     ]
    }
   ],
   "source": [
    "!pip install fastapi uvicorn pyngrok bs4"
   ]
  },
  {
   "cell_type": "code",
   "execution_count": 116,
   "id": "c4a53f57-5340-48c5-ba3f-3c59cbeda3b7",
   "metadata": {},
   "outputs": [
    {
     "name": "stdout",
     "output_type": "stream",
     "text": [
      "Authtoken saved to configuration file: C:\\Users\\divya\\AppData\\Local/ngrok/ngrok.yml\n"
     ]
    }
   ],
   "source": [
    "from fastapi import FastAPI,UploadFile,File,HTTPException\n",
    "import uvicorn \n",
    "from pyngrok import ngrok\n",
    "from bs4 import BeautifulSoup\n",
    "import requests\n",
    "import pandas as pd\n",
    "import string\n",
    "!ngrok config add-authtoken 2opUHOetl6GsvbpPlhrVJiK0bQq_d4jPqb3XbX8dpenLgi47"
   ]
  },
  {
   "cell_type": "code",
   "execution_count": 119,
   "id": "3553afdd-927b-49a7-b8de-f1e4ec59a926",
   "metadata": {},
   "outputs": [],
   "source": [
    "df=pd.read_excel('Company Data for Sentiment Analysis.xlsx')\n",
    "df['value']=df['Overall User Rating'].apply(lambda x: '$'+str(x))"
   ]
  },
  {
   "cell_type": "code",
   "execution_count": 69,
   "id": "2b6b350f-01c6-41c6-b6bc-649943ebc997",
   "metadata": {},
   "outputs": [],
   "source": [
    "app = FastAPI()\n",
    "\n",
    "@app.post(\"/upload-file/\")\n",
    "async def upload_file(file: UploadFile = File(...)):\n",
    "    try:\n",
    "        if file.filename.endswith('.csv'):\n",
    "            data = pd.read_csv(file.file)\n",
    "        elif file.filename.endswith('.xlsx'):\n",
    "            data = pd.read_excel(file.file)\n",
    "        else:\n",
    "            raise HTTPException(status_code=400, detail=\"File format not supported\")\n",
    "        \n",
    "       \n",
    "        return {\"message\": \"File uploaded and processed successfully\"}\n",
    "    except Exception as e:\n",
    "        raise HTTPException(status_code=500, detail=str(e))\n",
    "\n",
    "def analyse(data):\n",
    "    null=data.isna().sum().sum()\n",
    "    if(null>0):\n",
    "        data=data.dropna()\n",
    "    num=[i for i in range(1,11)]\n",
    "    floats=[float(i) for i in num]\n",
    "    symbols =[',','/',';',':','%' ,'$','&','<','>','*','^','(',')','#','@','!','.']\n",
    "    alphabet=list(string.ascii_lowercase)\n",
    "    for i in list(data.columns):\n",
    "        if isinstance(data[i] , object):\n",
    "            x=list(data.iloc[1][i])\n",
    "            l=[]\n",
    "            for j in x:\n",
    "                if (j not in alphabet):\n",
    "                    l.append(j)\n",
    "            if(len(x)==len(l)):\n",
    "                for j in x:\n",
    "                    if(j in symbols):\n",
    "                        data[i]=data[i].apply(lambda x: x.replace(j,''))\n",
    "                data[i]=data[i].astype('float')\n",
    "                    \n",
    "        return data\n",
    "\n",
    "                        \n",
    "                \n",
    "            \n",
    "                \n",
    "                    \n",
    "                    \n",
    "        \n"
   ]
  },
  {
   "cell_type": "code",
   "execution_count": 71,
   "id": "cd8ba261-985b-449f-aff1-1856556b2ffc",
   "metadata": {},
   "outputs": [],
   "source": [
    "data=analyse(df)"
   ]
  },
  {
   "cell_type": "code",
   "execution_count": 73,
   "id": "78c9bd94-cbf8-4720-8587-adb338c26bd1",
   "metadata": {},
   "outputs": [
    {
     "data": {
      "text/plain": [
       "Main Topic               object\n",
       "Sub Topic                object\n",
       "Sentence                 object\n",
       "Overall User Rating      object\n",
       "date                     object\n",
       "Main Topic Sentiment     object\n",
       "Main Topic Score        float64\n",
       "dtype: object"
      ]
     },
     "execution_count": 73,
     "metadata": {},
     "output_type": "execute_result"
    }
   ],
   "source": [
    "data.dtypes"
   ]
  },
  {
   "cell_type": "code",
   "execution_count": 4,
   "id": "f684b998-52fe-4587-ac55-8e0362c14962",
   "metadata": {},
   "outputs": [
    {
     "name": "stderr",
     "output_type": "stream",
     "text": [
      "INFO:     Started server process [20000]\n",
      "INFO:     Waiting for application startup.\n",
      "INFO:     Application startup complete.\n",
      "INFO:     Uvicorn running on http://0.0.0.0:8100 (Press CTRL+C to quit)\n"
     ]
    },
    {
     "name": "stdout",
     "output_type": "stream",
     "text": [
      "FastAPI is running on: NgrokTunnel: \"https://b502-2409-40d2-29-6589-75b3-ec9c-4e55-7e60.ngrok-free.app\" -> \"http://localhost:8100\"\n"
     ]
    }
   ],
   "source": [
    "import threading\n",
    "\n",
    "# Function to start the FastAPI app\n",
    "def start_app():\n",
    "    uvicorn.run(app, host=\"0.0.0.0\", port=8100)\n",
    "\n",
    "# Start FastAPI app in a thread\n",
    "thread = threading.Thread(target=start_app)\n",
    "thread.start()\n",
    "\n",
    "# Open a tunnel using ngrok\n",
    "public_url = ngrok.connect(8100)\n",
    "print(\"FastAPI is running on:\", public_url)\n"
   ]
  },
  {
   "cell_type": "code",
   "execution_count": 62,
   "id": "58672263-4a4d-4e62-9cd6-30e9bf104971",
   "metadata": {},
   "outputs": [
    {
     "name": "stdout",
     "output_type": "stream",
     "text": [
      "functionality/feature\n",
      "data analysis\n",
      "cloud dataprep automatically detects schemas, data types, possible joins, and anomalies such as missing values, outliers, and duplicates\n",
      "3.5\n",
      "2020-06-23 00:00:00\n",
      "Positive\n",
      "77.22048235\n"
     ]
    }
   ],
   "source": [
    "num=[i for i in range(1,11)]\n",
    "floats=[float(i) for i in num]\n",
    "symbols =[',','/',';',':','%' ,'$','&','<','>','*','^','(',')','#','@','!','.']\n",
    "alphabet=list(string.ascii_lowercase)\n",
    "for i in list(data.columns):\n",
    "        print(data.iloc[1][i])\n",
    "        if isinstance(data[i] , object):\n",
    "            if( data.iloc[1][i]in num) & (data.iloc[1][i] not in alphabet) & (data.iloc[1][i] not in symbols) :\n",
    "                print('here')\n",
    "                data[i]=data[i].astype('float')\n",
    "            if( data.iloc[1][i]in num) & (data.iloc[1][i] not in alphabet) & (data.iloc[1][i] in symbols):\n",
    "                print('here')\n",
    "                x=list(data.iloc[1][i])\n",
    "                for j in x:\n",
    "                    if(j in symbols):\n",
    "                        data[i]=data[i].apply(lambda x: x.replace('',j))\n",
    "                data[i]=data[i].astype('float') "
   ]
  },
  {
   "cell_type": "code",
   "execution_count": 129,
   "id": "3000f9f0-8bd3-4e7d-b7da-95d8f2f5b270",
   "metadata": {},
   "outputs": [],
   "source": [
    "df['Main Topic Score']=df['Main Topic Score'].astype(str)"
   ]
  },
  {
   "cell_type": "code",
   "execution_count": 131,
   "id": "e77f9153-a964-4c70-ab2f-8cfc7e6c7883",
   "metadata": {},
   "outputs": [
    {
     "data": {
      "text/plain": [
       "Main Topic              object\n",
       "Sub Topic               object\n",
       "Sentence                object\n",
       "Overall User Rating     object\n",
       "date                    object\n",
       "Main Topic Sentiment    object\n",
       "Main Topic Score        object\n",
       "value                   object\n",
       "dtype: object"
      ]
     },
     "execution_count": 131,
     "metadata": {},
     "output_type": "execute_result"
    }
   ],
   "source": [
    "data=df\n",
    "data.dtypes"
   ]
  },
  {
   "cell_type": "code",
   "execution_count": 133,
   "id": "23f417fd-76e6-44b3-bce8-f4b9f0919ac3",
   "metadata": {},
   "outputs": [
    {
     "name": "stdout",
     "output_type": "stream",
     "text": [
      "['7', '7', '2', '2', '0', '4', '8', '2', '3', '5', '.', '0']\n",
      "[] ['7'] ['7', '7'] ['7', '7', '2'] ['7', '7', '2', '2'] ['7', '7', '2', '2', '0'] ['7', '7', '2', '2', '0', '4'] ['7', '7', '2', '2', '0', '4', '8'] ['7', '7', '2', '2', '0', '4', '8', '2'] ['7', '7', '2', '2', '0', '4', '8', '2', '3'] ['7', '7', '2', '2', '0', '4', '8', '2', '3', '5'] ['7', '7', '2', '2', '0', '4', '8', '2', '3', '5', '.'] in\n"
     ]
    }
   ],
   "source": [
    "i='Main Topic Score'\n",
    "data=df\n",
    "if isinstance(data[i].dtype , object):\n",
    "            x=list(data.iloc[1][i])\n",
    "            print(x)\n",
    "            l=[]\n",
    "            for j in x:\n",
    "                if (j not in alphabet):\n",
    "                    print(l,end=' ')\n",
    "                    l.append(j)\n",
    "            if(len(x)==len(l)):\n",
    "                print('in')\n",
    "                for j in x:\n",
    "                    if(j in symbols):\n",
    "                        data[i]=data[i].apply(lambda x: x.replace(j,''))\n",
    "                data[i]=data[i].astype(float)\n",
    "                    \n",
    "        \n"
   ]
  },
  {
   "cell_type": "code",
   "execution_count": 99,
   "id": "56bbe567-701b-495f-b83a-5d73d06b9eeb",
   "metadata": {},
   "outputs": [
    {
     "data": {
      "text/plain": [
       "float"
      ]
     },
     "execution_count": 99,
     "metadata": {},
     "output_type": "execute_result"
    }
   ],
   "source": [
    "type(data.iloc[1][i])"
   ]
  },
  {
   "cell_type": "code",
   "execution_count": 91,
   "id": "911e7842-7e02-4047-9d63-e52873f1192e",
   "metadata": {},
   "outputs": [
    {
     "data": {
      "text/plain": [
       "dtype('O')"
      ]
     },
     "execution_count": 91,
     "metadata": {},
     "output_type": "execute_result"
    }
   ],
   "source": [
    "data[i].dtype"
   ]
  },
  {
   "cell_type": "code",
   "execution_count": 135,
   "id": "bad59990-63f6-4806-b0c1-e31b61d3003b",
   "metadata": {},
   "outputs": [
    {
     "data": {
      "text/plain": [
       "Main Topic               object\n",
       "Sub Topic                object\n",
       "Sentence                 object\n",
       "Overall User Rating      object\n",
       "date                     object\n",
       "Main Topic Sentiment     object\n",
       "Main Topic Score        float64\n",
       "value                    object\n",
       "dtype: object"
      ]
     },
     "execution_count": 135,
     "metadata": {},
     "output_type": "execute_result"
    }
   ],
   "source": [
    "data.dtypes"
   ]
  },
  {
   "cell_type": "code",
   "execution_count": 139,
   "id": "d745d42a-6c9b-4b9d-81bc-1fcecb050aa6",
   "metadata": {},
   "outputs": [
    {
     "data": {
      "text/plain": [
       "0      7.722048e+10\n",
       "1      7.722048e+10\n",
       "2      7.722048e+10\n",
       "3      7.722048e+10\n",
       "4      7.722048e+10\n",
       "           ...     \n",
       "258    1.645059e+10\n",
       "259    1.645059e+10\n",
       "260    1.645059e+10\n",
       "261    1.645059e+10\n",
       "262    1.645059e+10\n",
       "Name: Main Topic Score, Length: 263, dtype: float64"
      ]
     },
     "execution_count": 139,
     "metadata": {},
     "output_type": "execute_result"
    }
   ],
   "source": [
    "df['Main Topic Score']"
   ]
  },
  {
   "cell_type": "code",
   "execution_count": null,
   "id": "5aeab008-3362-4b39-8c2d-b3d7d9ae8bb6",
   "metadata": {},
   "outputs": [],
   "source": []
  }
 ],
 "metadata": {
  "kernelspec": {
   "display_name": "Python 3 (ipykernel)",
   "language": "python",
   "name": "python3"
  },
  "language_info": {
   "codemirror_mode": {
    "name": "ipython",
    "version": 3
   },
   "file_extension": ".py",
   "mimetype": "text/x-python",
   "name": "python",
   "nbconvert_exporter": "python",
   "pygments_lexer": "ipython3",
   "version": "3.12.4"
  }
 },
 "nbformat": 4,
 "nbformat_minor": 5
}
